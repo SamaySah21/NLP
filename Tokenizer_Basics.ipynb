{
 "cells": [
  {
   "cell_type": "code",
   "execution_count": 3,
   "metadata": {},
   "outputs": [],
   "source": [
    "## Import tokenizer from keras\n",
    "from tensorflow.keras.preprocessing.text import Tokenizer"
   ]
  },
  {
   "cell_type": "code",
   "execution_count": 24,
   "metadata": {},
   "outputs": [],
   "source": [
    "sentences = [ \"My name is Samay Sah\",\n",
    "             \"I am a NLP Engineer\",\n",
    "             \"I love Dogs\",\n",
    "             \"I love playing cricket\",\n",
    "             \"I like travelling\",\n",
    "             \"I am trying to learn tokenizer here\"\n",
    "            ]"
   ]
  },
  {
   "cell_type": "code",
   "execution_count": 25,
   "metadata": {},
   "outputs": [
    {
     "name": "stdout",
     "output_type": "stream",
     "text": [
      "['My name is Samay Sah', 'I am a NLP Engineer', 'I love Dogs', 'I love playing cricket', 'I like travelling', 'I am trying to learn tokenizer here']\n"
     ]
    }
   ],
   "source": [
    "print(sentences)"
   ]
  },
  {
   "cell_type": "code",
   "execution_count": 26,
   "metadata": {},
   "outputs": [
    {
     "name": "stdout",
     "output_type": "stream",
     "text": [
      "<keras_preprocessing.text.Tokenizer object at 0x000002548FCAE408>\n"
     ]
    }
   ],
   "source": [
    "## num_words = 100 means keep top 100 frequency words\n",
    "tokenizer = Tokenizer(num_words = 100)\n",
    "print(tokenizer)"
   ]
  },
  {
   "cell_type": "code",
   "execution_count": 27,
   "metadata": {},
   "outputs": [
    {
     "name": "stdout",
     "output_type": "stream",
     "text": [
      "<keras_preprocessing.text.Tokenizer object at 0x000002548FCAE408>\n"
     ]
    }
   ],
   "source": [
    "## building the vocabulary\n",
    "tokenizer.fit_on_texts(sentences)\n",
    "print(tokenizer)"
   ]
  },
  {
   "cell_type": "code",
   "execution_count": 28,
   "metadata": {},
   "outputs": [
    {
     "data": {
      "text/plain": [
       "{'i': 1,\n",
       " 'am': 2,\n",
       " 'love': 3,\n",
       " 'my': 4,\n",
       " 'name': 5,\n",
       " 'is': 6,\n",
       " 'samay': 7,\n",
       " 'sah': 8,\n",
       " 'a': 9,\n",
       " 'nlp': 10,\n",
       " 'engineer': 11,\n",
       " 'dogs': 12,\n",
       " 'playing': 13,\n",
       " 'cricket': 14,\n",
       " 'like': 15,\n",
       " 'travelling': 16,\n",
       " 'trying': 17,\n",
       " 'to': 18,\n",
       " 'learn': 19,\n",
       " 'tokenizer': 20,\n",
       " 'here': 21}"
      ]
     },
     "execution_count": 28,
     "metadata": {},
     "output_type": "execute_result"
    }
   ],
   "source": [
    "## word_index gives index to each words\n",
    "## word_index gives result in order which occurs maximum times in vocabulary comes first\n",
    "## for eg : here \"i\" comes 5 times, \"am\" comes 2 times, \"love\" comes 2 times .\n",
    "## if 2 words comes equal times than it will index as alphatecial order\n",
    "word_index = tokenizer.word_index\n",
    "word_index"
   ]
  },
  {
   "cell_type": "code",
   "execution_count": 31,
   "metadata": {},
   "outputs": [
    {
     "name": "stdout",
     "output_type": "stream",
     "text": [
      "6\n",
      "[[4, 5, 6, 7, 8], [1, 2, 9, 10, 11], [1, 3, 12], [1, 3, 13, 14], [1, 15, 16], [1, 2, 17, 18, 19, 20, 21]]\n"
     ]
    }
   ],
   "source": [
    "## create sequences to sentences\n",
    "sequences = tokenizer.texts_to_sequences(sentences)\n",
    "print(len(sequences))\n",
    "print(sequences)"
   ]
  },
  {
   "cell_type": "markdown",
   "metadata": {},
   "source": [
    "#### Decode the sequence:\n",
    "#### [4, 5, 6, 7, 8] = 4:my, 5: name, 6:is, 7: samay, 8:sah\n",
    "#### for each sentence encoding is done."
   ]
  },
  {
   "cell_type": "markdown",
   "metadata": {},
   "source": [
    "### case : If there is one new sentence in test data , in which there are word which is not present in early vocabulary"
   ]
  },
  {
   "cell_type": "code",
   "execution_count": 35,
   "metadata": {},
   "outputs": [],
   "source": [
    "test_data = [\"i like beer and mountains\"]"
   ]
  },
  {
   "cell_type": "code",
   "execution_count": 37,
   "metadata": {},
   "outputs": [
    {
     "name": "stdout",
     "output_type": "stream",
     "text": [
      "{'i': 1, 'am': 2, 'love': 3, 'my': 4, 'name': 5, 'is': 6, 'samay': 7, 'sah': 8, 'a': 9, 'nlp': 10, 'engineer': 11, 'dogs': 12, 'playing': 13, 'cricket': 14, 'like': 15, 'travelling': 16, 'trying': 17, 'to': 18, 'learn': 19, 'tokenizer': 20, 'here': 21}\n"
     ]
    }
   ],
   "source": [
    "print(word_index)"
   ]
  },
  {
   "cell_type": "code",
   "execution_count": 36,
   "metadata": {},
   "outputs": [
    {
     "data": {
      "text/plain": [
       "[[1, 15]]"
      ]
     },
     "execution_count": 36,
     "metadata": {},
     "output_type": "execute_result"
    }
   ],
   "source": [
    "## beer , and, mountain are not present in vocabulary , so it is getting ignored \n",
    "## only \"i\" \"like\" index is coming\n",
    "test_sequence = tokenizer.texts_to_sequences(test_data)\n",
    "test_sequence"
   ]
  },
  {
   "cell_type": "code",
   "execution_count": 40,
   "metadata": {},
   "outputs": [],
   "source": [
    "## to deal with these cases , we generally gives oov (out of vocabulary value) \n",
    "tokenizer = Tokenizer(num_words = 100 , oov_token = \"<OOV>\")"
   ]
  },
  {
   "cell_type": "code",
   "execution_count": 42,
   "metadata": {},
   "outputs": [
    {
     "name": "stdout",
     "output_type": "stream",
     "text": [
      "{'<OOV>': 1, 'i': 2, 'am': 3, 'love': 4, 'my': 5, 'name': 6, 'is': 7, 'samay': 8, 'sah': 9, 'a': 10, 'nlp': 11, 'engineer': 12, 'dogs': 13, 'playing': 14, 'cricket': 15, 'like': 16, 'travelling': 17, 'trying': 18, 'to': 19, 'learn': 20, 'tokenizer': 21, 'here': 22}\n"
     ]
    }
   ],
   "source": [
    "tokenizer.fit_on_texts(sentences)\n",
    "word_index = tokenizer.word_index\n",
    "print(word_index)"
   ]
  },
  {
   "cell_type": "code",
   "execution_count": 44,
   "metadata": {},
   "outputs": [
    {
     "data": {
      "text/plain": [
       "[[2, 16, 1, 1, 1]]"
      ]
     },
     "execution_count": 44,
     "metadata": {},
     "output_type": "execute_result"
    }
   ],
   "source": [
    "### Now in place of beer , and, mountain = 1 will come\n",
    "test_sequence = tokenizer.texts_to_sequences(test_data)\n",
    "test_sequence"
   ]
  },
  {
   "cell_type": "markdown",
   "metadata": {},
   "source": [
    "### PAD_SEQUENCE"
   ]
  },
  {
   "cell_type": "code",
   "execution_count": 46,
   "metadata": {},
   "outputs": [],
   "source": [
    "from tensorflow.keras.preprocessing.sequence import pad_sequences"
   ]
  },
  {
   "cell_type": "code",
   "execution_count": 47,
   "metadata": {},
   "outputs": [
    {
     "name": "stdout",
     "output_type": "stream",
     "text": [
      "[[4, 5, 6, 7, 8], [1, 2, 9, 10, 11], [1, 3, 12], [1, 3, 13, 14], [1, 15, 16], [1, 2, 17, 18, 19, 20, 21]]\n"
     ]
    }
   ],
   "source": [
    "print(sequences)"
   ]
  },
  {
   "cell_type": "code",
   "execution_count": 48,
   "metadata": {},
   "outputs": [
    {
     "name": "stdout",
     "output_type": "stream",
     "text": [
      "[[ 0  0  4  5  6  7  8]\n",
      " [ 0  0  1  2  9 10 11]\n",
      " [ 0  0  0  0  1  3 12]\n",
      " [ 0  0  0  1  3 13 14]\n",
      " [ 0  0  0  0  1 15 16]\n",
      " [ 1  2 17 18 19 20 21]]\n"
     ]
    }
   ],
   "source": [
    "## it will left pad the sequence\n",
    "padded = pad_sequences(sequences)\n",
    "print(padded)"
   ]
  },
  {
   "cell_type": "code",
   "execution_count": 50,
   "metadata": {},
   "outputs": [
    {
     "name": "stdout",
     "output_type": "stream",
     "text": [
      "[[ 4  5  6  7  8  0  0]\n",
      " [ 1  2  9 10 11  0  0]\n",
      " [ 1  3 12  0  0  0  0]\n",
      " [ 1  3 13 14  0  0  0]\n",
      " [ 1 15 16  0  0  0  0]\n",
      " [ 1  2 17 18 19 20 21]]\n"
     ]
    }
   ],
   "source": [
    "## padding =\"post\" it will right padded the sequence\n",
    "padded = pad_sequences(sequences, padding = \"post\")\n",
    "print(padded)"
   ]
  },
  {
   "cell_type": "code",
   "execution_count": 52,
   "metadata": {},
   "outputs": [
    {
     "name": "stdout",
     "output_type": "stream",
     "text": [
      "[[ 4  5  6  7  8]\n",
      " [ 1  2  9 10 11]\n",
      " [ 0  0  1  3 12]\n",
      " [ 0  1  3 13 14]\n",
      " [ 0  0  1 15 16]\n",
      " [17 18 19 20 21]]\n"
     ]
    }
   ],
   "source": [
    "## it will truncate max_lenth from end\n",
    "padded = pad_sequences(sequences, padding = \"post\", maxlen = 5)\n",
    "print(padded)"
   ]
  },
  {
   "cell_type": "code",
   "execution_count": 53,
   "metadata": {},
   "outputs": [
    {
     "name": "stdout",
     "output_type": "stream",
     "text": [
      "[[ 4  5  6  7  8]\n",
      " [ 1  2  9 10 11]\n",
      " [ 1  3 12  0  0]\n",
      " [ 1  3 13 14  0]\n",
      " [ 1 15 16  0  0]\n",
      " [ 1  2 17 18 19]]\n"
     ]
    }
   ],
   "source": [
    "## truncating = \"post\" will give max_lenth from start\n",
    "padded = pad_sequences(sequences, padding = \"post\", maxlen = 5, truncating = \"post\")\n",
    "print(padded)"
   ]
  },
  {
   "cell_type": "code",
   "execution_count": 55,
   "metadata": {},
   "outputs": [
    {
     "data": {
      "text/plain": [
       "array([[0., 0., 0., 0., 1., 1., 1., 1., 1., 0., 0., 0., 0., 0., 0., 0.,\n",
       "        0., 0., 0., 0., 0., 0., 0., 0., 0., 0., 0., 0., 0., 0., 0., 0.,\n",
       "        0., 0., 0., 0., 0., 0., 0., 0., 0., 0., 0., 0., 0., 0., 0., 0.,\n",
       "        0., 0., 0., 0., 0., 0., 0., 0., 0., 0., 0., 0., 0., 0., 0., 0.,\n",
       "        0., 0., 0., 0., 0., 0., 0., 0., 0., 0., 0., 0., 0., 0., 0., 0.,\n",
       "        0., 0., 0., 0., 0., 0., 0., 0., 0., 0., 0., 0., 0., 0., 0., 0.,\n",
       "        0., 0., 0., 0.],\n",
       "       [0., 1., 1., 0., 0., 0., 0., 0., 0., 1., 1., 1., 0., 0., 0., 0.,\n",
       "        0., 0., 0., 0., 0., 0., 0., 0., 0., 0., 0., 0., 0., 0., 0., 0.,\n",
       "        0., 0., 0., 0., 0., 0., 0., 0., 0., 0., 0., 0., 0., 0., 0., 0.,\n",
       "        0., 0., 0., 0., 0., 0., 0., 0., 0., 0., 0., 0., 0., 0., 0., 0.,\n",
       "        0., 0., 0., 0., 0., 0., 0., 0., 0., 0., 0., 0., 0., 0., 0., 0.,\n",
       "        0., 0., 0., 0., 0., 0., 0., 0., 0., 0., 0., 0., 0., 0., 0., 0.,\n",
       "        0., 0., 0., 0.],\n",
       "       [0., 1., 0., 1., 0., 0., 0., 0., 0., 0., 0., 0., 1., 0., 0., 0.,\n",
       "        0., 0., 0., 0., 0., 0., 0., 0., 0., 0., 0., 0., 0., 0., 0., 0.,\n",
       "        0., 0., 0., 0., 0., 0., 0., 0., 0., 0., 0., 0., 0., 0., 0., 0.,\n",
       "        0., 0., 0., 0., 0., 0., 0., 0., 0., 0., 0., 0., 0., 0., 0., 0.,\n",
       "        0., 0., 0., 0., 0., 0., 0., 0., 0., 0., 0., 0., 0., 0., 0., 0.,\n",
       "        0., 0., 0., 0., 0., 0., 0., 0., 0., 0., 0., 0., 0., 0., 0., 0.,\n",
       "        0., 0., 0., 0.],\n",
       "       [0., 1., 0., 1., 0., 0., 0., 0., 0., 0., 0., 0., 0., 1., 1., 0.,\n",
       "        0., 0., 0., 0., 0., 0., 0., 0., 0., 0., 0., 0., 0., 0., 0., 0.,\n",
       "        0., 0., 0., 0., 0., 0., 0., 0., 0., 0., 0., 0., 0., 0., 0., 0.,\n",
       "        0., 0., 0., 0., 0., 0., 0., 0., 0., 0., 0., 0., 0., 0., 0., 0.,\n",
       "        0., 0., 0., 0., 0., 0., 0., 0., 0., 0., 0., 0., 0., 0., 0., 0.,\n",
       "        0., 0., 0., 0., 0., 0., 0., 0., 0., 0., 0., 0., 0., 0., 0., 0.,\n",
       "        0., 0., 0., 0.],\n",
       "       [0., 1., 0., 0., 0., 0., 0., 0., 0., 0., 0., 0., 0., 0., 0., 1.,\n",
       "        1., 0., 0., 0., 0., 0., 0., 0., 0., 0., 0., 0., 0., 0., 0., 0.,\n",
       "        0., 0., 0., 0., 0., 0., 0., 0., 0., 0., 0., 0., 0., 0., 0., 0.,\n",
       "        0., 0., 0., 0., 0., 0., 0., 0., 0., 0., 0., 0., 0., 0., 0., 0.,\n",
       "        0., 0., 0., 0., 0., 0., 0., 0., 0., 0., 0., 0., 0., 0., 0., 0.,\n",
       "        0., 0., 0., 0., 0., 0., 0., 0., 0., 0., 0., 0., 0., 0., 0., 0.,\n",
       "        0., 0., 0., 0.],\n",
       "       [0., 1., 1., 0., 0., 0., 0., 0., 0., 0., 0., 0., 0., 0., 0., 0.,\n",
       "        0., 1., 1., 1., 1., 1., 0., 0., 0., 0., 0., 0., 0., 0., 0., 0.,\n",
       "        0., 0., 0., 0., 0., 0., 0., 0., 0., 0., 0., 0., 0., 0., 0., 0.,\n",
       "        0., 0., 0., 0., 0., 0., 0., 0., 0., 0., 0., 0., 0., 0., 0., 0.,\n",
       "        0., 0., 0., 0., 0., 0., 0., 0., 0., 0., 0., 0., 0., 0., 0., 0.,\n",
       "        0., 0., 0., 0., 0., 0., 0., 0., 0., 0., 0., 0., 0., 0., 0., 0.,\n",
       "        0., 0., 0., 0.]])"
      ]
     },
     "execution_count": 55,
     "metadata": {},
     "output_type": "execute_result"
    }
   ],
   "source": [
    "### Now we have sequence, we can make TDM (term document matrix or bag of words from it)\n",
    "tdm = tokenizer.sequences_to_matrix(sequences, mode = \"binary\")\n",
    "tdm"
   ]
  }
 ],
 "metadata": {
  "kernelspec": {
   "display_name": "Python 3",
   "language": "python",
   "name": "python3"
  },
  "language_info": {
   "codemirror_mode": {
    "name": "ipython",
    "version": 3
   },
   "file_extension": ".py",
   "mimetype": "text/x-python",
   "name": "python",
   "nbconvert_exporter": "python",
   "pygments_lexer": "ipython3",
   "version": "3.7.6"
  }
 },
 "nbformat": 4,
 "nbformat_minor": 4
}
